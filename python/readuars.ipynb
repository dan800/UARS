{
 "cells": [
  {
   "cell_type": "code",
   "execution_count": 22,
   "id": "a9df5fa2-8797-4c82-be75-4bf899ddd573",
   "metadata": {},
   "outputs": [],
   "source": [
    "MAXRECSIZE = 8192  # Define the maximum record size\n",
    "\n",
    "def ReadL3A(file_name):\n",
    "    rec_size = MAXRECSIZE\n",
    "    swap = False\n",
    "\n",
    "    rec = bytearray(rec_size)  # Array to hold records\n",
    "    temp = bytearray(rec_size)  # Temporary array for manipulation\n",
    "    sfdu = bytearray(60 + 1)  # Array to hold SFDU record\n",
    "    header = bytearray(176 + 1)  # Array to hold header/label record\n",
    "\n",
    "\n",
    "    # String pointer\n",
    "    ptr = None\n",
    "\n",
    "    # Size of index key (L3AL only)\n",
    "    key = 0\n",
    "\n",
    "    with open(file_name, \"rb\") as fp:\n",
    "        # The 0th record contains the SFDU information\n",
    "        fp.readinto(rec)\n",
    "        ptr = rec.find(b\"CCSD1Z\")\n",
    "        if ptr == -1:\n",
    "            raise ValueError(f\"Error: {file_name} is not a valid UARS data file\")\n",
    "        key = ptr\n",
    "        sfdu[20 - key: 20 - key + 40 + key] = rec[:40 + key]\n",
    "        \n",
    "        # The 1st record is the header or label\n",
    "        fp.readinto(rec)\n",
    "        header[20 - key: 20 - key + 125 + key] = rec[:125 + key]\n",
    "        \n",
    "    return sfdu, header"
   ]
  },
  {
   "cell_type": "code",
   "execution_count": 23,
   "id": "2dd0e004-27d2-4c05-8306-bf994a6b29e8",
   "metadata": {},
   "outputs": [],
   "source": [
    "sr,hd = ReadL3A('../HRDI_L3AT_SVOLER_A_D0057.V0011_C01_PROD')"
   ]
  },
  {
   "cell_type": "code",
   "execution_count": 19,
   "id": "016c114c-65bf-4039-998e-c0296e1b9328",
   "metadata": {},
   "outputs": [
    {
     "data": {
      "text/plain": [
       "bytearray(b'\\x00\\x00\\x00\\x00\\x00\\x00\\x00\\x00\\x00\\x00\\x00\\x00\\x00\\x00\\x00\\x00\\x00\\x00\\x00\\x00CCSD1Z00000100175132NURS1I00HR0400175112\\x00')"
      ]
     },
     "execution_count": 19,
     "metadata": {},
     "output_type": "execute_result"
    }
   ],
   "source": [
    "sr"
   ]
  },
  {
   "cell_type": "code",
   "execution_count": 24,
   "id": "c2430604-492b-42b9-b7ee-527e9f6a166c",
   "metadata": {},
   "outputs": [
    {
     "data": {
      "text/plain": [
       "bytearray(b'\\x00\\x00\\x00\\x00\\x00\\x00\\x00\\x00\\x00\\x00\\x00\\x00\\x00\\x00\\x00\\x00\\x00\\x00\\x00\\x00\\x7f\\xff\\xff\\xff\\x7f\\xff\\xff\\xffUARS 3HRDI              25\\x00\\x00\\x00\\x00\\x00!\\x00\\x00\\x00\\t\\x00\\x00\\x00\\x16\\x00\\x01d\\xaf\\x00&\\x80\\x00\\xc2I,\\xaaC e/A:\\xa8\\xbaB\\t\\x16H\\x7f\\xff\\xff\\xff\\x7f\\xff\\xff\\xff\\x7f\\xff\\xff\\xff\\x7f\\xff\\xff\\xff\\x7f\\xff\\xff\\xff\\x7f\\xff\\xff\\xff\\x7f\\xff\\xff\\xff\\x7f\\xff\\xff\\xff\\x7f\\xff\\xff\\xff\\x7f\\xff\\xff\\xff\\x7f\\xff\\xff\\xff\\x7f\\xff\\xff\\xff\\x7f\\xff\\xff\\xff\\x7f\\x00\\x00\\x00\\x00\\x00\\x00\\x00\\x00\\x00\\x00\\x00\\x00\\x00\\x00\\x00\\x00\\x00\\x00\\x00\\x00\\x00\\x00\\x00\\x00\\x00\\x00\\x00\\x00\\x00\\x00\\x00\\x00')"
      ]
     },
     "execution_count": 24,
     "metadata": {},
     "output_type": "execute_result"
    }
   ],
   "source": [
    "hd"
   ]
  },
  {
   "cell_type": "code",
   "execution_count": null,
   "id": "bcf70c32-29dc-4c6b-abfa-564e7c49783c",
   "metadata": {},
   "outputs": [],
   "source": []
  }
 ],
 "metadata": {
  "kernelspec": {
   "display_name": "Python [conda env:miniconda3-default]",
   "language": "python",
   "name": "conda-env-miniconda3-default-py"
  },
  "language_info": {
   "codemirror_mode": {
    "name": "ipython",
    "version": 3
   },
   "file_extension": ".py",
   "mimetype": "text/x-python",
   "name": "python",
   "nbconvert_exporter": "python",
   "pygments_lexer": "ipython3",
   "version": "3.9.5"
  }
 },
 "nbformat": 4,
 "nbformat_minor": 5
}
